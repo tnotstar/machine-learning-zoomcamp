{
 "cells": [
  {
   "cell_type": "code",
   "execution_count": 1,
   "id": "c451dfc9",
   "metadata": {
    "_sphinx_cell_id": "5daa4957-2082-4ef7-a825-8f76a534e3e0"
   },
   "outputs": [],
   "source": [
    "import numpy as np\n",
    "import pandas as pd\n",
    "\n",
    "import seaborn as sns"
   ]
  },
  {
   "cell_type": "code",
   "execution_count": 2,
   "id": "b73eb3e7",
   "metadata": {
    "_sphinx_cell_id": "c0d16f30-d2fc-43a5-a7ba-83fa90e5fb07"
   },
   "outputs": [],
   "source": [
    "df = pd.read_csv(\"https://raw.githubusercontent.com/alexeygrigorev/datasets/master/car_fuel_efficiency.csv\")"
   ]
  },
  {
   "cell_type": "code",
   "execution_count": 3,
   "metadata": {
    "_sphinx_cell_id": "3e333ee7-f804-41e5-86d5-13fea429b34f"
   },
   "outputs": [
    {
     "data": {
      "text/plain": [
       "Index(['engine_displacement', 'num_cylinders', 'horsepower', 'vehicle_weight',\n",
       "       'acceleration', 'model_year', 'origin', 'fuel_type', 'drivetrain',\n",
       "       'num_doors', 'fuel_efficiency_mpg'],\n",
       "      dtype='object')"
      ]
     },
     "execution_count": 3,
     "metadata": {},
     "output_type": "execute_result"
    }
   ],
   "source": [
    "df.columns"
   ]
  },
  {
   "cell_type": "code",
   "execution_count": 4,
   "metadata": {
    "_sphinx_cell_id": "a1332cd4-99d5-4ffa-afa1-b1d6a52558a9"
   },
   "outputs": [
    {
     "data": {
      "text/html": [
       "<div>\n",
       "<style scoped>\n",
       "    .dataframe tbody tr th:only-of-type {\n",
       "        vertical-align: middle;\n",
       "    }\n",
       "\n",
       "    .dataframe tbody tr th {\n",
       "        vertical-align: top;\n",
       "    }\n",
       "\n",
       "    .dataframe thead th {\n",
       "        text-align: right;\n",
       "    }\n",
       "</style>\n",
       "<table border=\"1\" class=\"dataframe\">\n",
       "  <thead>\n",
       "    <tr style=\"text-align: right;\">\n",
       "      <th></th>\n",
       "      <th>engine_displacement</th>\n",
       "      <th>num_cylinders</th>\n",
       "      <th>horsepower</th>\n",
       "      <th>vehicle_weight</th>\n",
       "      <th>acceleration</th>\n",
       "      <th>model_year</th>\n",
       "      <th>origin</th>\n",
       "      <th>fuel_type</th>\n",
       "      <th>drivetrain</th>\n",
       "      <th>num_doors</th>\n",
       "      <th>fuel_efficiency_mpg</th>\n",
       "    </tr>\n",
       "  </thead>\n",
       "  <tbody>\n",
       "    <tr>\n",
       "      <th>0</th>\n",
       "      <td>170</td>\n",
       "      <td>3.0</td>\n",
       "      <td>159.0</td>\n",
       "      <td>3413.433759</td>\n",
       "      <td>17.7</td>\n",
       "      <td>2003</td>\n",
       "      <td>Europe</td>\n",
       "      <td>Gasoline</td>\n",
       "      <td>All-wheel drive</td>\n",
       "      <td>0.0</td>\n",
       "      <td>13.231729</td>\n",
       "    </tr>\n",
       "    <tr>\n",
       "      <th>1</th>\n",
       "      <td>130</td>\n",
       "      <td>5.0</td>\n",
       "      <td>97.0</td>\n",
       "      <td>3149.664934</td>\n",
       "      <td>17.8</td>\n",
       "      <td>2007</td>\n",
       "      <td>USA</td>\n",
       "      <td>Gasoline</td>\n",
       "      <td>Front-wheel drive</td>\n",
       "      <td>0.0</td>\n",
       "      <td>13.688217</td>\n",
       "    </tr>\n",
       "    <tr>\n",
       "      <th>2</th>\n",
       "      <td>170</td>\n",
       "      <td>NaN</td>\n",
       "      <td>78.0</td>\n",
       "      <td>3079.038997</td>\n",
       "      <td>15.1</td>\n",
       "      <td>2018</td>\n",
       "      <td>Europe</td>\n",
       "      <td>Gasoline</td>\n",
       "      <td>Front-wheel drive</td>\n",
       "      <td>0.0</td>\n",
       "      <td>14.246341</td>\n",
       "    </tr>\n",
       "    <tr>\n",
       "      <th>3</th>\n",
       "      <td>220</td>\n",
       "      <td>4.0</td>\n",
       "      <td>NaN</td>\n",
       "      <td>2542.392402</td>\n",
       "      <td>20.2</td>\n",
       "      <td>2009</td>\n",
       "      <td>USA</td>\n",
       "      <td>Diesel</td>\n",
       "      <td>All-wheel drive</td>\n",
       "      <td>2.0</td>\n",
       "      <td>16.912736</td>\n",
       "    </tr>\n",
       "    <tr>\n",
       "      <th>4</th>\n",
       "      <td>210</td>\n",
       "      <td>1.0</td>\n",
       "      <td>140.0</td>\n",
       "      <td>3460.870990</td>\n",
       "      <td>14.4</td>\n",
       "      <td>2009</td>\n",
       "      <td>Europe</td>\n",
       "      <td>Gasoline</td>\n",
       "      <td>All-wheel drive</td>\n",
       "      <td>2.0</td>\n",
       "      <td>12.488369</td>\n",
       "    </tr>\n",
       "  </tbody>\n",
       "</table>\n",
       "</div>"
      ],
      "text/plain": [
       "   engine_displacement  num_cylinders  horsepower  vehicle_weight  \\\n",
       "0                  170            3.0       159.0     3413.433759   \n",
       "1                  130            5.0        97.0     3149.664934   \n",
       "2                  170            NaN        78.0     3079.038997   \n",
       "3                  220            4.0         NaN     2542.392402   \n",
       "4                  210            1.0       140.0     3460.870990   \n",
       "\n",
       "   acceleration  model_year  origin fuel_type         drivetrain  num_doors  \\\n",
       "0          17.7        2003  Europe  Gasoline    All-wheel drive        0.0   \n",
       "1          17.8        2007     USA  Gasoline  Front-wheel drive        0.0   \n",
       "2          15.1        2018  Europe  Gasoline  Front-wheel drive        0.0   \n",
       "3          20.2        2009     USA    Diesel    All-wheel drive        2.0   \n",
       "4          14.4        2009  Europe  Gasoline    All-wheel drive        2.0   \n",
       "\n",
       "   fuel_efficiency_mpg  \n",
       "0            13.231729  \n",
       "1            13.688217  \n",
       "2            14.246341  \n",
       "3            16.912736  \n",
       "4            12.488369  "
      ]
     },
     "execution_count": 4,
     "metadata": {},
     "output_type": "execute_result"
    }
   ],
   "source": [
    "df.head()"
   ]
  },
  {
   "cell_type": "code",
   "execution_count": 9,
   "id": "7da45f27-bb6c-4f80-bba3-dc78fe0d9a0a",
   "metadata": {
    "_sphinx_cell_id": "79788557-4b44-49bb-97a7-0cae1617e3e3"
   },
   "outputs": [
    {
     "data": {
      "text/plain": [
       "<Axes: xlabel='fuel_efficiency_mpg', ylabel='Count'>"
      ]
     },
     "execution_count": 9,
     "metadata": {},
     "output_type": "execute_result"
    },
    {
     "data": {
      "image/png": "[encoded data removed]",
      "text/plain": [
       "<Figure size 640x480 with 1 Axes>"
      ]
     },
     "metadata": {},
     "output_type": "display_data"
    }
   ],
   "source": [
    "sns.histplot(df['fuel_efficiency_mpg'])"
   ]
  },
  {
   "cell_type": "code",
   "execution_count": 10,
   "id": "48706b7b-5900-4540-b5fd-2ca54f65461a",
   "metadata": {
    "_sphinx_cell_id": "231ecc1f-9c7c-47f6-a688-ed747c690098"
   },
   "outputs": [
    {
     "data": {
      "text/html": [
       "<div>\n",
       "<style scoped>\n",
       "    .dataframe tbody tr th:only-of-type {\n",
       "        vertical-align: middle;\n",
       "    }\n",
       "\n",
       "    .dataframe tbody tr th {\n",
       "        vertical-align: top;\n",
       "    }\n",
       "\n",
       "    .dataframe thead th {\n",
       "        text-align: right;\n",
       "    }\n",
       "</style>\n",
       "<table border=\"1\" class=\"dataframe\">\n",
       "  <thead>\n",
       "    <tr style=\"text-align: right;\">\n",
       "      <th></th>\n",
       "      <th>engine_displacement</th>\n",
       "      <th>num_cylinders</th>\n",
       "      <th>horsepower</th>\n",
       "      <th>vehicle_weight</th>\n",
       "      <th>acceleration</th>\n",
       "      <th>model_year</th>\n",
       "      <th>num_doors</th>\n",
       "      <th>fuel_efficiency_mpg</th>\n",
       "    </tr>\n",
       "  </thead>\n",
       "  <tbody>\n",
       "    <tr>\n",
       "      <th>count</th>\n",
       "      <td>9704.000000</td>\n",
       "      <td>9222.000000</td>\n",
       "      <td>8996.000000</td>\n",
       "      <td>9704.000000</td>\n",
       "      <td>8774.000000</td>\n",
       "      <td>9704.000000</td>\n",
       "      <td>9202.000000</td>\n",
       "      <td>9704.000000</td>\n",
       "    </tr>\n",
       "    <tr>\n",
       "      <th>mean</th>\n",
       "      <td>199.708368</td>\n",
       "      <td>3.962481</td>\n",
       "      <td>149.657292</td>\n",
       "      <td>3001.280993</td>\n",
       "      <td>15.021928</td>\n",
       "      <td>2011.484027</td>\n",
       "      <td>-0.006412</td>\n",
       "      <td>14.985243</td>\n",
       "    </tr>\n",
       "    <tr>\n",
       "      <th>std</th>\n",
       "      <td>49.455319</td>\n",
       "      <td>1.999323</td>\n",
       "      <td>29.879555</td>\n",
       "      <td>497.894860</td>\n",
       "      <td>2.510339</td>\n",
       "      <td>6.659808</td>\n",
       "      <td>1.048162</td>\n",
       "      <td>2.556468</td>\n",
       "    </tr>\n",
       "    <tr>\n",
       "      <th>min</th>\n",
       "      <td>10.000000</td>\n",
       "      <td>0.000000</td>\n",
       "      <td>37.000000</td>\n",
       "      <td>952.681761</td>\n",
       "      <td>6.000000</td>\n",
       "      <td>2000.000000</td>\n",
       "      <td>-4.000000</td>\n",
       "      <td>6.200971</td>\n",
       "    </tr>\n",
       "    <tr>\n",
       "      <th>25%</th>\n",
       "      <td>170.000000</td>\n",
       "      <td>3.000000</td>\n",
       "      <td>130.000000</td>\n",
       "      <td>2666.248985</td>\n",
       "      <td>13.300000</td>\n",
       "      <td>2006.000000</td>\n",
       "      <td>-1.000000</td>\n",
       "      <td>13.267459</td>\n",
       "    </tr>\n",
       "    <tr>\n",
       "      <th>50%</th>\n",
       "      <td>200.000000</td>\n",
       "      <td>4.000000</td>\n",
       "      <td>149.000000</td>\n",
       "      <td>2993.226296</td>\n",
       "      <td>15.000000</td>\n",
       "      <td>2012.000000</td>\n",
       "      <td>0.000000</td>\n",
       "      <td>15.006037</td>\n",
       "    </tr>\n",
       "    <tr>\n",
       "      <th>75%</th>\n",
       "      <td>230.000000</td>\n",
       "      <td>5.000000</td>\n",
       "      <td>170.000000</td>\n",
       "      <td>3334.957039</td>\n",
       "      <td>16.700000</td>\n",
       "      <td>2017.000000</td>\n",
       "      <td>1.000000</td>\n",
       "      <td>16.707965</td>\n",
       "    </tr>\n",
       "    <tr>\n",
       "      <th>max</th>\n",
       "      <td>380.000000</td>\n",
       "      <td>13.000000</td>\n",
       "      <td>271.000000</td>\n",
       "      <td>4739.077089</td>\n",
       "      <td>24.300000</td>\n",
       "      <td>2023.000000</td>\n",
       "      <td>4.000000</td>\n",
       "      <td>25.967222</td>\n",
       "    </tr>\n",
       "  </tbody>\n",
       "</table>\n",
       "</div>"
      ],
      "text/plain": [
       "       engine_displacement  num_cylinders   horsepower  vehicle_weight  \\\n",
       "count          9704.000000    9222.000000  8996.000000     9704.000000   \n",
       "mean            199.708368       3.962481   149.657292     3001.280993   \n",
       "std              49.455319       1.999323    29.879555      497.894860   \n",
       "min              10.000000       0.000000    37.000000      952.681761   \n",
       "25%             170.000000       3.000000   130.000000     2666.248985   \n",
       "50%             200.000000       4.000000   149.000000     2993.226296   \n",
       "75%             230.000000       5.000000   170.000000     3334.957039   \n",
       "max             380.000000      13.000000   271.000000     4739.077089   \n",
       "\n",
       "       acceleration   model_year    num_doors  fuel_efficiency_mpg  \n",
       "count   8774.000000  9704.000000  9202.000000          9704.000000  \n",
       "mean      15.021928  2011.484027    -0.006412            14.985243  \n",
       "std        2.510339     6.659808     1.048162             2.556468  \n",
       "min        6.000000  2000.000000    -4.000000             6.200971  \n",
       "25%       13.300000  2006.000000    -1.000000            13.267459  \n",
       "50%       15.000000  2012.000000     0.000000            15.006037  \n",
       "75%       16.700000  2017.000000     1.000000            16.707965  \n",
       "max       24.300000  2023.000000     4.000000            25.967222  "
      ]
     },
     "execution_count": 10,
     "metadata": {},
     "output_type": "execute_result"
    }
   ],
   "source": [
    "df.describe()"
   ]
  },
  {
   "cell_type": "code",
   "execution_count": 22,
   "id": "992a75b5",
   "metadata": {
    "_sphinx_cell_id": "c8944844-faa3-490e-adcc-7bfcb7e7a4f2"
   },
   "outputs": [],
   "source": [
    "columns = [\n",
    "    'engine_displacement',\n",
    "    'horsepower',\n",
    "    'vehicle_weight',\n",
    "    'model_year',\n",
    "    'fuel_efficiency_mpg'\n",
    "]\n",
    "\n",
    "df = df[columns]"
   ]
  },
  {
   "cell_type": "markdown",
   "id": "b25b0177",
   "metadata": {
    "_sphinx_cell_id": "07be0bc9-4cc7-434f-ab2c-9cb2a913b559"
   },
   "source": [
    "**Question 1**: Feature with missing values"
   ]
  },
  {
   "cell_type": "code",
   "execution_count": 23,
   "id": "5f9ca847",
   "metadata": {
    "_sphinx_cell_id": "e1fc4d59-c8d4-42a2-b809-5a38b063ad76"
   },
   "outputs": [
    {
     "data": {
      "text/plain": [
       "engine_displacement      0\n",
       "horsepower             708\n",
       "vehicle_weight           0\n",
       "model_year               0\n",
       "fuel_efficiency_mpg      0\n",
       "dtype: int64"
      ]
     },
     "execution_count": 23,
     "metadata": {},
     "output_type": "execute_result"
    }
   ],
   "source": [
    "df.isnull().sum()"
   ]
  },
  {
   "cell_type": "markdown",
   "id": "5875e9d3",
   "metadata": {
    "_sphinx_cell_id": "798e6ea4-d5a3-4732-ba0b-b2e27fe0f1fa"
   },
   "source": [
    "Answer: `horsepower`"
   ]
  },
  {
   "cell_type": "markdown",
   "id": "cedf28ee",
   "metadata": {
    "_sphinx_cell_id": "7761e1d8-9b98-48cf-b542-4f7e4be89e73"
   },
   "source": [
    "**Question 2**: Median for horsepower"
   ]
  },
  {
   "cell_type": "code",
   "execution_count": 24,
   "id": "aa66e0f5-a024-4817-8532-6927cecafb01",
   "metadata": {
    "_sphinx_cell_id": "bd18aef2-f607-4569-b3e0-5431e27a31ee"
   },
   "outputs": [
    {
     "data": {
      "text/plain": [
       "149.0"
      ]
     },
     "execution_count": 24,
     "metadata": {},
     "output_type": "execute_result"
    }
   ],
   "source": [
    "df['horsepower'].median()"
   ]
  },
  {
   "cell_type": "markdown",
   "id": "aefaa53f",
   "metadata": {
    "_sphinx_cell_id": "0bcf3932-468d-42ed-8eb1-b144690c2f39"
   },
   "source": [
    "Splitting and preparing the dataset"
   ]
  },
  {
   "cell_type": "code",
   "execution_count": 19,
   "id": "e4335d7d",
   "metadata": {
    "_sphinx_cell_id": "06a558e6-a947-49c6-89ad-a7c49d829bbb"
   },
   "outputs": [],
   "source": [
    "n = len(df)\n",
    "\n",
    "n_val = int(0.2 * n)\n",
    "n_test = int(0.2 * n)\n",
    "n_train = n - (n_val + n_test)\n",
    "\n",
    "idx = np.arange(n)\n",
    "np.random.seed(42)\n",
    "np.random.shuffle(idx)\n",
    "\n",
    "df_shuffled = df.iloc[idx]\n",
    "\n",
    "df_train = df_shuffled.iloc[:n_train].copy()\n",
    "df_val = df_shuffled.iloc[n_train:n_train+n_val].copy()\n",
    "df_test = df_shuffled.iloc[n_train+n_val:].copy()\n",
    "\n",
    "df_train = df_train.reset_index(drop=True)\n",
    "df_val = df_val.reset_index(drop=True)\n",
    "df_test = df_test.reset_index(drop=True)"
   ]
  },
  {
   "cell_type": "code",
   "execution_count": 20,
   "id": "af8ec23d",
   "metadata": {
    "_sphinx_cell_id": "47ed2aa8-0709-4f1a-bee7-ea5f89e3bc18"
   },
   "outputs": [],
   "source": [
    "y_train = df_train.fuel_efficiency_mpg.values\n",
    "y_val = df_val.fuel_efficiency_mpg.values\n",
    "y_test = df_test.fuel_efficiency_mpg.values\n",
    "\n",
    "del df_train['fuel_efficiency_mpg']\n",
    "del df_val['fuel_efficiency_mpg']\n",
    "del df_test['fuel_efficiency_mpg']"
   ]
  },
  {
   "cell_type": "markdown",
   "id": "ff693918",
   "metadata": {
    "_sphinx_cell_id": "90d86970-a4ef-45cd-9092-0b1395282970"
   },
   "source": [
    "**Question 3**: Mean vs zero"
   ]
  },
  {
   "cell_type": "code",
   "execution_count": 21,
   "id": "da978b10",
   "metadata": {
    "_sphinx_cell_id": "9ad758b1-3e28-45ef-acff-5b6bc955ce3b"
   },
   "outputs": [],
   "source": [
    "def train_linear_regression(X, y):\n",
    "    ones = np.ones(X.shape[0])\n",
    "    X = np.column_stack([ones, X])\n",
    "\n",
    "    XTX = X.T.dot(X)\n",
    "    XTX_inv = np.linalg.inv(XTX)\n",
    "    w = XTX_inv.dot(X.T).dot(y)\n",
    "    \n",
    "    return w[0], w[1:]\n",
    "\n",
    "def prepare_X(df, fillna_value):\n",
    "    df = df.fillna(fillna_value)\n",
    "    X = df.values\n",
    "    return X\n",
    "\n",
    "def rmse(y, y_pred):\n",
    "    error = y_pred - y\n",
    "    mse = (error ** 2).mean()\n",
    "    return np.sqrt(mse)"
   ]
  },
  {
   "cell_type": "markdown",
   "id": "1ac2bcfd",
   "metadata": {
    "_sphinx_cell_id": "82204b38-3036-4bb2-9197-ca6bcd84d941"
   },
   "source": [
    "with mean:"
   ]
  },
  {
   "cell_type": "code",
   "execution_count": 25,
   "id": "667f94fc",
   "metadata": {
    "_sphinx_cell_id": "6971debe-de2f-4e05-a4f2-54c481d76bb5"
   },
   "outputs": [
    {
     "data": {
      "text/plain": [
       "np.float64(0.463389742732731)"
      ]
     },
     "execution_count": 25,
     "metadata": {},
     "output_type": "execute_result"
    }
   ],
   "source": [
    "mean = df_train.horsepower.mean()\n",
    "\n",
    "X_train = prepare_X(df_train, fillna_value=mean)\n",
    "w_0, w = train_linear_regression(X_train, y_train)\n",
    "\n",
    "X_val = prepare_X(df_val, fillna_value=mean)\n",
    "y_pred = w_0 + X_val.dot(w)\n",
    "\n",
    "rmse(y_val, y_pred)"
   ]
  },
  {
   "cell_type": "markdown",
   "id": "86b1b2a4",
   "metadata": {
    "_sphinx_cell_id": "3eacf0eb-87a1-4da3-86b3-ee0b3a9ef4c1"
   },
   "source": [
    "with 0:"
   ]
  },
  {
   "cell_type": "code",
   "execution_count": 26,
   "id": "b0ae2b32",
   "metadata": {
    "_sphinx_cell_id": "35da4e05-ac04-4240-bbbb-b7a91fc792e0"
   },
   "outputs": [
    {
     "data": {
      "text/plain": [
       "np.float64(0.5060986960748592)"
      ]
     },
     "execution_count": 26,
     "metadata": {},
     "output_type": "execute_result"
    }
   ],
   "source": [
    "X_train = prepare_X(df_train, fillna_value=0)\n",
    "w_0, w = train_linear_regression(X_train, y_train)\n",
    "\n",
    "X_val = prepare_X(df_val, fillna_value=0)\n",
    "y_pred = w_0 + X_val.dot(w)\n",
    "\n",
    "rmse(y_val, y_pred)"
   ]
  },
  {
   "cell_type": "markdown",
   "id": "dfd537dc",
   "metadata": {
    "_sphinx_cell_id": "220d8726-f3bb-4be3-8570-b5e9b359aafe"
   },
   "source": [
    "The answer: **with median**"
   ]
  },
  {
   "cell_type": "markdown",
   "id": "09a8e086",
   "metadata": {
    "_sphinx_cell_id": "e248edb8-0d68-4873-9ccd-5c58ab1f3b08"
   },
   "source": [
    "**Question 4**: Regularization"
   ]
  },
  {
   "cell_type": "code",
   "execution_count": 27,
   "id": "9642eb7d",
   "metadata": {
    "_sphinx_cell_id": "df63bcf6-5f8b-4e69-8177-f326a599eb2d"
   },
   "outputs": [],
   "source": [
    "def train_linear_regression_reg(X, y, r=0.0):\n",
    "    ones = np.ones(X.shape[0])\n",
    "    X = np.column_stack([ones, X])\n",
    "\n",
    "    XTX = X.T.dot(X)\n",
    "    reg = r * np.eye(XTX.shape[0])\n",
    "    XTX = XTX + reg\n",
    "\n",
    "    XTX_inv = np.linalg.inv(XTX)\n",
    "    w = XTX_inv.dot(X.T).dot(y)\n",
    "    \n",
    "    return w[0], w[1:]"
   ]
  },
  {
   "cell_type": "code",
   "execution_count": 31,
   "id": "110bbed7",
   "metadata": {
    "_sphinx_cell_id": "4347bcd2-5db3-427e-aca0-fd392334d78c"
   },
   "outputs": [
    {
     "name": "stdout",
     "output_type": "stream",
     "text": [
      "     0 0.50610\n",
      "  0.01 0.50595\n",
      "     1 0.51186\n",
      "    10 0.51266\n",
      "   100 0.51275\n"
     ]
    }
   ],
   "source": [
    "for r in [0, 0.01, 1, 10, 100]:\n",
    "    w_0, w = train_linear_regression_reg(X_train, y_train, r=r)\n",
    "    y_pred = w_0 + X_val.dot(w)\n",
    "    rmse_val = rmse(y_val, y_pred)\n",
    "    print('%06s %0.5f' % (r, rmse_val))"
   ]
  },
  {
   "cell_type": "markdown",
   "id": "58525d07",
   "metadata": {
    "_sphinx_cell_id": "98baf689-039c-4436-9ce6-4098dbe94c07"
   },
   "source": [
    "The answer: `r=0`"
   ]
  },
  {
   "cell_type": "markdown",
   "id": "f330354e",
   "metadata": {
    "_sphinx_cell_id": "38e79ed6-f5e7-4874-b6c0-22f4c0bf013d"
   },
   "source": [
    "**Question 5**: Standard deviation of RMSE"
   ]
  },
  {
   "cell_type": "code",
   "execution_count": 33,
   "id": "c8bf8f06",
   "metadata": {
    "_sphinx_cell_id": "dfec3f60-0b12-4d60-9862-35a4007dfe73"
   },
   "outputs": [
    {
     "name": "stdout",
     "output_type": "stream",
     "text": [
      "0 0.5206531296292951\n",
      "1 0.5213388912860217\n",
      "2 0.5228069974785726\n",
      "3 0.5159516741108942\n",
      "4 0.5109129460108117\n",
      "5 0.5283406460133415\n",
      "6 0.5313910658151165\n",
      "7 0.5090670387365963\n",
      "8 0.5147399129426932\n",
      "9 0.5131865908408015\n"
     ]
    }
   ],
   "source": [
    "rmses = []\n",
    "\n",
    "for s in [0, 1, 2, 3, 4, 5, 6, 7, 8, 9]:\n",
    "\n",
    "    n = len(df)\n",
    "\n",
    "    n_val = int(0.2 * n)\n",
    "    n_test = int(0.2 * n)\n",
    "    n_train = n - (n_val + n_test)\n",
    "\n",
    "    idx = np.arange(n)\n",
    "    np.random.seed(s)\n",
    "    np.random.shuffle(idx)\n",
    "\n",
    "    df_shuffled = df.iloc[idx]\n",
    "\n",
    "    df_train = df_shuffled.iloc[:n_train].copy()\n",
    "    df_val = df_shuffled.iloc[n_train:n_train+n_val].copy()\n",
    "    df_test = df_shuffled.iloc[n_train+n_val:].copy()\n",
    "\n",
    "    df_train = df_train.reset_index(drop=True)\n",
    "    df_val = df_val.reset_index(drop=True)\n",
    "    df_test = df_test.reset_index(drop=True)\n",
    "    \n",
    "    y_train = df_train.fuel_efficiency_mpg.values\n",
    "    y_val = df_val.fuel_efficiency_mpg.values\n",
    "    y_test = df_test.fuel_efficiency_mpg.values\n",
    "\n",
    "    del df_train['fuel_efficiency_mpg']\n",
    "    del df_val['fuel_efficiency_mpg']\n",
    "    del df_test['fuel_efficiency_mpg']\n",
    "\n",
    "    X_train = prepare_X(df_train, fillna_value=0)\n",
    "    w_0, w = train_linear_regression(X_train, y_train)\n",
    "\n",
    "    X_val = prepare_X(df_val, fillna_value=0)\n",
    "    y_pred = w_0 + X_val.dot(w)\n",
    "\n",
    "    result = rmse(y_val, y_pred)\n",
    "    print(s, result)\n",
    "    \n",
    "    rmses.append(result)"
   ]
  },
  {
   "cell_type": "code",
   "execution_count": 34,
   "id": "a1ea59b7",
   "metadata": {
    "_sphinx_cell_id": "ec983dd3-86c0-4dd7-8ad7-b3bcccafa323"
   },
   "outputs": [
    {
     "data": {
      "text/plain": [
       "np.float64(0.006989446425721602)"
      ]
     },
     "execution_count": 34,
     "metadata": {},
     "output_type": "execute_result"
    }
   ],
   "source": [
    "np.std(rmses)"
   ]
  },
  {
   "cell_type": "markdown",
   "id": "c29fe6fa",
   "metadata": {
    "_sphinx_cell_id": "b7df5a7e-e964-4051-8156-c0b59fda37da"
   },
   "source": [
    "**Question 6**: RMSE for Test"
   ]
  },
  {
   "cell_type": "code",
   "execution_count": 35,
   "id": "b9d8d0e4",
   "metadata": {
    "_sphinx_cell_id": "eb9c29a8-b80f-4fa4-a1ec-9a0da53fea95"
   },
   "outputs": [],
   "source": [
    "n = len(df)\n",
    "\n",
    "n_val = int(0.2 * n)\n",
    "n_test = int(0.2 * n)\n",
    "n_train = n - (n_val + n_test)\n",
    "\n",
    "idx = np.arange(n)\n",
    "np.random.seed(9)\n",
    "np.random.shuffle(idx)\n",
    "\n",
    "df_shuffled = df.iloc[idx]\n",
    "\n",
    "df_train = df_shuffled.iloc[:n_train].copy()\n",
    "df_val = df_shuffled.iloc[n_train:n_train+n_val].copy()\n",
    "df_test = df_shuffled.iloc[n_train+n_val:].copy()\n",
    "\n",
    "df_train = df_train.reset_index(drop=True)\n",
    "df_val = df_val.reset_index(drop=True)\n",
    "df_test = df_test.reset_index(drop=True)\n",
    "\n",
    "y_train = df_train.fuel_efficiency_mpg.values\n",
    "y_val = df_val.fuel_efficiency_mpg.values\n",
    "y_test = df_test.fuel_efficiency_mpg.values\n",
    "\n",
    "del df_train['fuel_efficiency_mpg']\n",
    "del df_val['fuel_efficiency_mpg']\n",
    "del df_test['fuel_efficiency_mpg']"
   ]
  },
  {
   "cell_type": "code",
   "execution_count": 36,
   "id": "dfe80373",
   "metadata": {
    "_sphinx_cell_id": "28cbba47-6e70-4e07-b6e2-b89609c5c077"
   },
   "outputs": [
    {
     "name": "stdout",
     "output_type": "stream",
     "text": [
      "0.5156261299167999\n"
     ]
    }
   ],
   "source": [
    "df_full_train = pd.concat([df_train, df_val])\n",
    "df_full_train = df_full_train.reset_index(drop=True)\n",
    "\n",
    "X_full_train = prepare_X(df_full_train, fillna_value=0)\n",
    "y_full_train = np.concatenate([y_train, y_val])\n",
    "w_0, w = train_linear_regression_reg(X_full_train, y_full_train, r=0.001)\n",
    "\n",
    "X_test = prepare_X(df_test, fillna_value=0)\n",
    "y_pred = w_0 + X_test.dot(w)\n",
    "\n",
    "result = rmse(y_test, y_pred)\n",
    "print(result)"
   ]
  }
 ],
 "metadata": {
  "__sphinx_history__.5839cd5f-a2c9-4cb8-941f-d0a2d1b22527": "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",
  "kernelspec": {
   "display_name": "base",
   "language": "python",
   "name": "python3"
  },
  "language_info": {
   "codemirror_mode": {
    "name": "ipython",
    "version": 3
   },
   "file_extension": ".py",
   "mimetype": "text/x-python",
   "name": "python",
   "nbconvert_exporter": "python",
   "pygments_lexer": "ipython3",
   "version": "3.13.5"
  }
 },
 "nbformat": 4,
 "nbformat_minor": 5
}
