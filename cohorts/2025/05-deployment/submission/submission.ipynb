{
 "cells": [
  {
   "cell_type": "code",
   "execution_count": 1,
   "id": "c008ee66-6de1-45b0-a4b9-5fca0cea0b30",
   "metadata": {},
   "outputs": [
    {
     "name": "stdout",
     "output_type": "stream",
     "text": [
      "--2025-10-27 22:05:47--  https://github.com/DataTalksClub/machine-learning-zoomcamp/raw/refs/heads/master/cohorts/2025/05-deployment/pipeline_v1.bin\n",
      "Resolving github.com (github.com)... 20.26.156.215\n",
      "Connecting to github.com (github.com)|20.26.156.215|:443... connected.\n",
      "HTTP request sent, awaiting response... 302 Found\n",
      "Location: https://raw.githubusercontent.com/DataTalksClub/machine-learning-zoomcamp/refs/heads/master/cohorts/2025/05-deployment/pipeline_v1.bin [following]\n",
      "--2025-10-27 22:05:47--  https://raw.githubusercontent.com/DataTalksClub/machine-learning-zoomcamp/refs/heads/master/cohorts/2025/05-deployment/pipeline_v1.bin\n",
      "Resolving raw.githubusercontent.com (raw.githubusercontent.com)... 185.199.108.133, 185.199.109.133, 185.199.110.133, ...\n",
      "Connecting to raw.githubusercontent.com (raw.githubusercontent.com)|185.199.108.133|:443... connected.\n",
      "HTTP request sent, awaiting response... 200 OK\n",
      "Length: 1300 (1.3K) [application/octet-stream]\n",
      "Saving to: ‘pipeline_v1.bin’\n",
      "\n",
      "pipeline_v1.bin     100%[===================>]   1.27K  --.-KB/s    in 0s      \n",
      "\n",
      "Last-modified header missing -- time-stamps turned off.\n",
      "2025-10-27 22:05:47 (76.0 MB/s) - ‘pipeline_v1.bin’ saved [1300/1300]\n",
      "\n"
     ]
    }
   ],
   "source": [
    "!wget -N https://github.com/DataTalksClub/machine-learning-zoomcamp/raw/refs/heads/master/cohorts/2025/05-deployment/pipeline_v1.bin"
   ]
  },
  {
   "cell_type": "code",
   "execution_count": 2,
   "id": "9e95eb01-82c0-475d-b677-37f367bd2761",
   "metadata": {},
   "outputs": [],
   "source": [
    "import pickle"
   ]
  },
  {
   "cell_type": "code",
   "execution_count": 3,
   "id": "41cd7c89-ed07-48dc-a9a9-ee64385e58ba",
   "metadata": {},
   "outputs": [],
   "source": [
    "with open('pipeline_v1.bin', 'rb') as f_in:\n",
    "    pipeline = pickle.load(f_in)"
   ]
  },
  {
   "cell_type": "code",
   "execution_count": 4,
   "id": "a2d09161-703a-425b-afb7-027e00c27710",
   "metadata": {},
   "outputs": [
    {
     "name": "stdout",
     "output_type": "stream",
     "text": [
      "Pipeline(steps=[('dictvectorizer', DictVectorizer()),\n",
      "                ('logisticregression', LogisticRegression(solver='liblinear'))])\n"
     ]
    }
   ],
   "source": [
    "print(pipeline)"
   ]
  },
  {
   "cell_type": "code",
   "execution_count": 5,
   "id": "f7be93b5-af6c-4dc9-aae7-d1dfc47c4053",
   "metadata": {},
   "outputs": [],
   "source": [
    "def predict_single(customer):\n",
    "    result = pipeline.predict_proba(customer)[0, 1]\n",
    "    return float(result)"
   ]
  },
  {
   "cell_type": "code",
   "execution_count": 40,
   "id": "6048637e-c34e-4381-9801-de2034c03654",
   "metadata": {},
   "outputs": [
    {
     "data": {
      "text/plain": [
       "0.5336072702798061"
      ]
     },
     "execution_count": 40,
     "metadata": {},
     "output_type": "execute_result"
    }
   ],
   "source": [
    "predict_single({\n",
    "    \"lead_source\": \"paid_ads\",\n",
    "    \"number_of_courses_viewed\": 2,\n",
    "    \"annual_income\": 79276.0\n",
    "})"
   ]
  },
  {
   "cell_type": "code",
   "execution_count": 41,
   "id": "e29b31ea-c4ab-4d6d-ba0d-eab82f3de6a2",
   "metadata": {},
   "outputs": [],
   "source": [
    "import requests"
   ]
  },
  {
   "cell_type": "code",
   "execution_count": 42,
   "id": "76a73691-fa45-48e0-9e9f-d274f154a34f",
   "metadata": {},
   "outputs": [
    {
     "data": {
      "text/plain": [
       "{'churn_probability': 0.5340417283801275, 'churn': True}"
      ]
     },
     "execution_count": 42,
     "metadata": {},
     "output_type": "execute_result"
    }
   ],
   "source": [
    "client =  {\n",
    "    \"lead_source\": \"organic_search\",\n",
    "    \"number_of_courses_viewed\": 4,\n",
    "    \"annual_income\": 80304.0\n",
    "}\n",
    "requests.post(\"http://localhost:9696/predict\", json=client).json()"
   ]
  },
  {
   "cell_type": "code",
   "execution_count": 46,
   "id": "d7b62035-00f9-4b5b-8bd6-5de9dac82a51",
   "metadata": {},
   "outputs": [
    {
     "data": {
      "text/plain": [
       "{'churn_probability': 0.5340417283801275, 'churn': True}"
      ]
     },
     "execution_count": 46,
     "metadata": {},
     "output_type": "execute_result"
    }
   ],
   "source": [
    "client = {\n",
    "    \"lead_source\": \"organic_search\",\n",
    "    \"number_of_courses_viewed\": 4,\n",
    "    \"annual_income\": 80304.0\n",
    "}\n",
    "requests.post(\"http://localhost:9696/predict\", json=client).json()"
   ]
  },
  {
   "cell_type": "code",
   "execution_count": null,
   "id": "5f50aa68-ab58-4136-af40-5b3ec83ffaf8",
   "metadata": {},
   "outputs": [],
   "source": []
  }
 ],
 "metadata": {
  "kernelspec": {
   "display_name": "Python 3 (ipykernel)",
   "language": "python",
   "name": "python3"
  },
  "language_info": {
   "codemirror_mode": {
    "name": "ipython",
    "version": 3
   },
   "file_extension": ".py",
   "mimetype": "text/x-python",
   "name": "python",
   "nbconvert_exporter": "python",
   "pygments_lexer": "ipython3",
   "version": "3.12.1"
  }
 },
 "nbformat": 4,
 "nbformat_minor": 5
}
